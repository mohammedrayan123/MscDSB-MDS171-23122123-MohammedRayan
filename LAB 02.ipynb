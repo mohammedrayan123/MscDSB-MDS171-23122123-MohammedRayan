{
 "cells": [
  {
   "cell_type": "markdown",
   "metadata": {},
   "source": [
    "The Numerical Odyssey\n",
    "\n",
    "In the vibrant realm of Digiterra, there lived a princess named Alice; Alice is fascinated with recording numbers, which she asks as she meets new people when she moves around. Alice used to save the numbers in the following form\n",
    "\n",
    "Number - Input\n",
    "\n",
    "Output\n",
    "\n",
    "98\n",
    "\n",
    "98NineEight\n",
    "\n",
    "345\n",
    "\n",
    "345ThreeFourFive\n",
    "\n",
    "24\n",
    "\n",
    "24TwoFour\n",
    "\n",
    "You are asked to create a function to help Alice from Digiterra convert the number she enters. \n",
    "\n",
    "Demonstrate the function with various inputs, including required validations. As Data Analysis students, try to bring out some analysis with these numbers!"
   ]
  },
  {
   "cell_type": "code",
   "execution_count": 1,
   "metadata": {},
   "outputs": [
    {
     "data": {
      "text/plain": [
       "'45FourFive'"
      ]
     },
     "execution_count": 1,
     "metadata": {},
     "output_type": "execute_result"
    }
   ],
   "source": [
    "#creating list\n",
    "lst=[\"Zero\",\"One\",\"Two\",\"Three\",\"Four\",\"Five\",\"Six\",\"Seven\",\"Eight\",\"Nine\"]\n",
    "\n",
    "#taking input from the user\n",
    "a=input(\"Enter a number:\")\n",
    "\n",
    "#defining a function\n",
    "def alice():\n",
    "    str_res=a\n",
    "    #using for loop for checking\n",
    "    for item in a:\n",
    "        temp=int(item)\n",
    "        str_res=str_res+lst[temp]\n",
    "    return str_res\n",
    "#calling the function\n",
    "alice()\n"
   ]
  },
  {
   "cell_type": "code",
   "execution_count": null,
   "metadata": {},
   "outputs": [],
   "source": []
  }
 ],
 "metadata": {
  "kernelspec": {
   "display_name": "Python 3",
   "language": "python",
   "name": "python3"
  },
  "language_info": {
   "codemirror_mode": {
    "name": "ipython",
    "version": 3
   },
   "file_extension": ".py",
   "mimetype": "text/x-python",
   "name": "python",
   "nbconvert_exporter": "python",
   "pygments_lexer": "ipython3",
   "version": "3.11.4"
  },
  "orig_nbformat": 4
 },
 "nbformat": 4,
 "nbformat_minor": 2
}
