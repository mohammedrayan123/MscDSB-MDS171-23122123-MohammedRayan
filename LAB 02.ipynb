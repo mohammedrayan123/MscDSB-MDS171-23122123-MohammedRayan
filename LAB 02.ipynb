{
 "cells": [
  {
   "cell_type": "code",
   "execution_count": 1,
   "metadata": {},
   "outputs": [
    {
     "data": {
      "text/plain": [
       "'45FourFive'"
      ]
     },
     "execution_count": 1,
     "metadata": {},
     "output_type": "execute_result"
    }
   ],
   "source": [
    "#creating list\n",
    "lst=[\"Zero\",\"One\",\"Two\",\"Three\",\"Four\",\"Five\",\"Six\",\"Seven\",\"Eight\",\"Nine\"]\n",
    "\n",
    "#taking input from the user\n",
    "a=input(\"Enter a number:\")\n",
    "\n",
    "#defining a function\n",
    "def alice():\n",
    "    str_res=a\n",
    "    #using for loop for checking\n",
    "    for item in a:\n",
    "        temp=int(item)\n",
    "        str_res=str_res+lst[temp]\n",
    "    return str_res\n",
    "#calling the function\n",
    "alice()\n"
   ]
  },
  {
   "cell_type": "code",
   "execution_count": null,
   "metadata": {},
   "outputs": [],
   "source": []
  }
 ],
 "metadata": {
  "kernelspec": {
   "display_name": "Python 3",
   "language": "python",
   "name": "python3"
  },
  "language_info": {
   "codemirror_mode": {
    "name": "ipython",
    "version": 3
   },
   "file_extension": ".py",
   "mimetype": "text/x-python",
   "name": "python",
   "nbconvert_exporter": "python",
   "pygments_lexer": "ipython3",
   "version": "3.11.4"
  },
  "orig_nbformat": 4
 },
 "nbformat": 4,
 "nbformat_minor": 2
}
