{
 "cells": [
  {
   "cell_type": "markdown",
   "metadata": {},
   "source": [
    "Print Your names for n times"
   ]
  },
  {
   "cell_type": "code",
   "execution_count": 3,
   "metadata": {},
   "outputs": [
    {
     "name": "stdout",
     "output_type": "stream",
     "text": [
      "rayan\n",
      "rayan\n",
      "rayan\n",
      "rayan\n",
      "rayan\n"
     ]
    }
   ],
   "source": [
    "# taking user input and number of time name should be printed\n",
    "name = str(input(\"Enter the name : \"))\n",
    "num = int(input(f\"How many times you want to print this {name} : \"))\n",
    "\n",
    "# for loop to repeat the numbers\n",
    "for i in range(1,num + 1):\n",
    "    print(name)"
   ]
  },
  {
   "cell_type": "code",
   "execution_count": null,
   "metadata": {},
   "outputs": [],
   "source": []
  }
 ],
 "metadata": {
  "kernelspec": {
   "display_name": "Python 3",
   "language": "python",
   "name": "python3"
  },
  "language_info": {
   "codemirror_mode": {
    "name": "ipython",
    "version": 3
   },
   "file_extension": ".py",
   "mimetype": "text/x-python",
   "name": "python",
   "nbconvert_exporter": "python",
   "pygments_lexer": "ipython3",
   "version": "3.11.4"
  },
  "orig_nbformat": 4
 },
 "nbformat": 4,
 "nbformat_minor": 2
}
