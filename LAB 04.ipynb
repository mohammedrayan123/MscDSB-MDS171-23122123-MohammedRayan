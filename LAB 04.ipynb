{
 "cells": [
  {
   "cell_type": "code",
   "execution_count": 9,
   "metadata": {},
   "outputs": [
    {
     "name": "stdout",
     "output_type": "stream",
     "text": [
      "Thank you for Shopping\n",
      "---------------------------------------------\n",
      "Item Name\t: \tapple\n",
      "\n",
      "---------------------------------------------\n",
      "Price\t: 50\n",
      "\n",
      "---------------------------------------------\n",
      "Quantity\t: \t2\n",
      "\n",
      "---------------------------------------------\n",
      "Total Amount\t: \t100\n",
      "\n",
      "---------------------------------------------\n",
      "Name of the customer\t: \tharish\n",
      "\n",
      "---------------------------------------------\n",
      "Phone number\t: \t9876543210Item Name\t: \tkiwi\n",
      "\n",
      "---------------------------------------------\n",
      "Price\t: 30\n",
      "\n",
      "---------------------------------------------\n",
      "Quantity\t: \t3\n",
      "\n",
      "---------------------------------------------\n",
      "Total Amount\t: \t60\n",
      "\n",
      "---------------------------------------------\n",
      "Name of the customer\t: \tansel\n",
      "\n",
      "---------------------------------------------\n",
      "Phone number\t: \t\n",
      "\n",
      "---------------------------------------------\n",
      "9876543210\n",
      "\n",
      "---------------------------------------------\n",
      "Item Name\t: \ttomato\n",
      "\n",
      "---------------------------------------------\n",
      "Price\t: 50\n",
      "\n",
      "---------------------------------------------\n",
      "Quantity\t: \t4\n",
      "\n",
      "---------------------------------------------\n",
      "Total Amount\t: \t200\n",
      "\n",
      "---------------------------------------------\n",
      "Name of the customer\t: \tharini\n",
      "\n",
      "---------------------------------------------\n",
      "Phone number\t: \t098754321\n",
      "---------------------------------------------\n"
     ]
    }
   ],
   "source": [
    "def gros(item, price, qty, total, cname, mob):\n",
    "    filename = open(\"LAB04.txt\",\"a+\")\n",
    "    filename.write(\"\\nItem Name\\t: \\t\"+item)\n",
    "    filename.write(\"\\nPrice\\t: \"+price)\n",
    "    filename.write(\"\\nQuantity\\t: \\t\"+qty)\n",
    "    filename.write(\"\\nTotal Amount\\t: \\t\"+total)\n",
    "    filename.write(\"\\nName of the customer\\t: \\t\"+cname)\n",
    "    filename.write(\"\\nPhone number\\t: \\t\"+mob)\n",
    "    filename.close()\n",
    "    return True\n",
    "item = input(\"Enter the Item: \")\n",
    "price = input(\"Item Price: \")\n",
    "qty = input(\"Number of Items: \")\n",
    "total = input(\"Total amount is: \")\n",
    "cname = input(\"Enter the name of the customer: \")\n",
    "mob = input(\"Enter the phone number of the customer: \")\n",
    "gms = gros(item, price, qty, total, cname, mob)\n",
    "if gms:\n",
    "    print(\"Thank you for Shopping\")\n",
    "    print(\"---------------------------------------------\")\n",
    "    for line in open(\"LAB04.txt\", \"r+\"). readlines() :\n",
    "        print(line)\n",
    "        print(\"---------------------------------------------\")\n",
    "else:\n",
    "    print(\"Some error occured\")"
   ]
  },
  {
   "cell_type": "code",
   "execution_count": null,
   "metadata": {},
   "outputs": [],
   "source": []
  }
 ],
 "metadata": {
  "kernelspec": {
   "display_name": "Python 3",
   "language": "python",
   "name": "python3"
  },
  "language_info": {
   "codemirror_mode": {
    "name": "ipython",
    "version": 3
   },
   "file_extension": ".py",
   "mimetype": "text/x-python",
   "name": "python",
   "nbconvert_exporter": "python",
   "pygments_lexer": "ipython3",
   "version": "3.11.4"
  },
  "orig_nbformat": 4
 },
 "nbformat": 4,
 "nbformat_minor": 2
}
