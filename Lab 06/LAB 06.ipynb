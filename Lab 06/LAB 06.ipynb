{
 "cells": [
  {
   "cell_type": "code",
   "execution_count": 36,
   "metadata": {},
   "outputs": [
    {
     "ename": "TypeError",
     "evalue": "'list' object is not callable",
     "output_type": "error",
     "traceback": [
      "\u001b[1;31m---------------------------------------------------------------------------\u001b[0m",
      "\u001b[1;31mTypeError\u001b[0m                                 Traceback (most recent call last)",
      "\u001b[1;32mr:\\MscPy\\MscDSB-MDS171-23122123-MohammedRayan\\Lab 06\\LAB 06.ipynb Cell 1\u001b[0m line \u001b[0;36m2\n\u001b[0;32m     <a href='vscode-notebook-cell:/r%3A/MscPy/MscDSB-MDS171-23122123-MohammedRayan/Lab%2006/LAB%2006.ipynb#W0sZmlsZQ%3D%3D?line=18'>19</a>\u001b[0m \u001b[39mwith\u001b[39;00m \u001b[39mopen\u001b[39m(\u001b[39m\"\u001b[39m\u001b[39mitem.csv\u001b[39m\u001b[39m\"\u001b[39m,\u001b[39m\"\u001b[39m\u001b[39mw+\u001b[39m\u001b[39m\"\u001b[39m) \u001b[39mas\u001b[39;00m filename:\n\u001b[0;32m     <a href='vscode-notebook-cell:/r%3A/MscPy/MscDSB-MDS171-23122123-MohammedRayan/Lab%2006/LAB%2006.ipynb#W0sZmlsZQ%3D%3D?line=19'>20</a>\u001b[0m     \u001b[39mfor\u001b[39;00m num \u001b[39min\u001b[39;00m \u001b[39mrange\u001b[39m(\u001b[39m0\u001b[39m,\u001b[39m100\u001b[39m,\u001b[39m1\u001b[39m):\n\u001b[1;32m---> <a href='vscode-notebook-cell:/r%3A/MscPy/MscDSB-MDS171-23122123-MohammedRayan/Lab%2006/LAB%2006.ipynb#W0sZmlsZQ%3D%3D?line=20'>21</a>\u001b[0m         filename\u001b[39m.\u001b[39mwrite(lab06())\n",
      "\u001b[1;32mr:\\MscPy\\MscDSB-MDS171-23122123-MohammedRayan\\Lab 06\\LAB 06.ipynb Cell 1\u001b[0m line \u001b[0;36m1\n\u001b[0;32m     <a href='vscode-notebook-cell:/r%3A/MscPy/MscDSB-MDS171-23122123-MohammedRayan/Lab%2006/LAB%2006.ipynb#W0sZmlsZQ%3D%3D?line=14'>15</a>\u001b[0m price\u001b[39m=\u001b[39mrandom\u001b[39m.\u001b[39mrandint(\u001b[39m0\u001b[39m,\u001b[39m9\u001b[39m)       \n\u001b[0;32m     <a href='vscode-notebook-cell:/r%3A/MscPy/MscDSB-MDS171-23122123-MohammedRayan/Lab%2006/LAB%2006.ipynb#W0sZmlsZQ%3D%3D?line=15'>16</a>\u001b[0m     \u001b[39m# file.write(item,qtylist,pricelist)\u001b[39;00m\n\u001b[1;32m---> <a href='vscode-notebook-cell:/r%3A/MscPy/MscDSB-MDS171-23122123-MohammedRayan/Lab%2006/LAB%2006.ipynb#W0sZmlsZQ%3D%3D?line=16'>17</a>\u001b[0m \u001b[39mreturn\u001b[39;00m itemlist[item]\u001b[39m+\u001b[39m\u001b[39m\"\u001b[39m\u001b[39m,\u001b[39m\u001b[39m\"\u001b[39m \u001b[39m+\u001b[39m\u001b[39mstr\u001b[39m(qtylist[qty]\u001b[39m+\u001b[39m\u001b[39m\"\u001b[39m\u001b[39m,\u001b[39m\u001b[39m\"\u001b[39m \u001b[39m+\u001b[39m\u001b[39mstr\u001b[39m(pricelist(price)\u001b[39m+\u001b[39m\u001b[39m\"\u001b[39m\u001b[39m,\u001b[39m\u001b[39m\"\u001b[39m \u001b[39m+\u001b[39m\u001b[39m\"\u001b[39m\u001b[39m\\n\u001b[39;00m\u001b[39m\"\u001b[39m))\n",
      "\u001b[1;31mTypeError\u001b[0m: 'list' object is not callable"
     ]
    }
   ],
   "source": [
    "import random\n",
    "\n",
    "itemlist=[\"keyboard\",\"ram\",\"motherboard\",\"cpu\",\"hdd\",\"ssd\",\"charger\",\"moniter\",\"pendrive\",\"mouse\"]\n",
    "qtylist=[\"53\",\"42\",\"17\",\"71\",\"31\",\"77\",\"68\",\"76\",\"26\",\"94\"]\n",
    "pricelist=[\"7526\",\"9036\",\"6179\",\"9090\",\"6701\",\"7731\",\"9651\",\"3363\",\"4655\",\"3697\"]\n",
    "\n",
    "# file = open('items.txt','a+')\n",
    "# file.write(itemlist,qtylist,pricelist)\n",
    "# file.close()\n",
    "\n",
    "# file = open('items.txt','a+')\n",
    "def lab06():\n",
    "    item=random.randint(0,9)\n",
    "    qty=random.randint(0,9)\n",
    "    price=random.randint(0,9)       \n",
    "        # file.write(item,qtylist,pricelist)\n",
    "    return itemlist[item]+\",\" +str(qtylist[qty]+\",\" +str(pricelist(price)+\",\" +\"\\n\"))\n",
    "\n",
    "with open(\"item.csv\",\"w+\") as filename:\n",
    "    for num in range(0,100,1):\n",
    "        filename.write(lab06())"
   ]
  },
  {
   "cell_type": "code",
   "execution_count": 27,
   "metadata": {},
   "outputs": [
    {
     "name": "stdout",
     "output_type": "stream",
     "text": [
      "('Black', 9, 70)\n",
      "<class 'tuple'>\n",
      "('Lavender', 3, 75)\n",
      "<class 'tuple'>\n",
      "('Lavender', 2, 90)\n",
      "<class 'tuple'>\n",
      "('Orange', 5, 95)\n",
      "<class 'tuple'>\n",
      "('Neon', 4, 100)\n",
      "<class 'tuple'>\n",
      "('Cyan', 4, 85)\n",
      "<class 'tuple'>\n",
      "('Cream', 8, 85)\n",
      "<class 'tuple'>\n",
      "('Pink', 6, 85)\n",
      "<class 'tuple'>\n",
      "('Cyan', 7, 50)\n",
      "<class 'tuple'>\n",
      "('Black', 6, 40)\n",
      "<class 'tuple'>\n"
     ]
    }
   ],
   "source": [
    "# import random\n",
    "\n",
    "# item = [\"Pink\",\"Black\",\"Orange\",\"Blue\",\"Red\",\"Peach\",\"Cream\",\"Lavender\",\"Neon\",\"Cyan\"]\n",
    "# qty = [1,2,3,4,5,6,7,8,9,10]\n",
    "# price = [100,90,50,70,80,40,75,85,95,20]\n",
    "\n",
    "\n",
    "# def fileOpen():\n",
    "#     file=open(\"c.txt\",\"w+\")\n",
    "#     file.write(\"Item,Qty,Price,Amount \\n\")\n",
    "#     for i in range(0,10,1):\n",
    "#         r1 = random.choice(item)\n",
    "#         r2 = random.choice(qty)\n",
    "#         r3 = random.choice(price)\n",
    "#         new = r1,r2,r3 \n",
    "        \n",
    "#         modified_list = str(new).replace('(', '').replace(')', '')\n",
    "#         print(new)\n",
    "#         print(type(new))\n",
    "#     #     file.write(\"\\n\";\"+str(qty)+\";\"+str(price)+\";\"+str(new))\n",
    "#     #     file.write(str(new))\n",
    "#     # file.write(qty)\n",
    "# fileOpen()\n",
    "\n"
   ]
  },
  {
   "cell_type": "code",
   "execution_count": null,
   "metadata": {},
   "outputs": [],
   "source": []
  },
  {
   "cell_type": "code",
   "execution_count": null,
   "metadata": {},
   "outputs": [],
   "source": []
  }
 ],
 "metadata": {
  "kernelspec": {
   "display_name": "Python 3",
   "language": "python",
   "name": "python3"
  },
  "language_info": {
   "codemirror_mode": {
    "name": "ipython",
    "version": 3
   },
   "file_extension": ".py",
   "mimetype": "text/x-python",
   "name": "python",
   "nbconvert_exporter": "python",
   "pygments_lexer": "ipython3",
   "version": "3.11.4"
  },
  "orig_nbformat": 4
 },
 "nbformat": 4,
 "nbformat_minor": 2
}
