{
 "cells": [
  {
   "cell_type": "code",
   "execution_count": 20,
   "metadata": {},
   "outputs": [
    {
     "name": "stdout",
     "output_type": "stream",
     "text": [
      "rayan\n",
      "a,a 20.0\n",
      "a,a 40.0\n",
      "\n",
      "No of vowels:  2\n"
     ]
    }
   ],
   "source": [
    "# def vowelcounter(str):\n",
    "#     count = 0\n",
    "#     vowel = set (\"aeiouAEIOU\")\n",
    "#     for letters in str:\n",
    "#         if letters in vowel:\n",
    "#             count=count+1\n",
    "#             print(letters,end=',')\n",
    "#             print(letters,+100*count/len(str))\n",
    "#     print(\"\\nNo of vowels: \",count)\n",
    "# str=input(\"Enter words\")\n",
    "# print(str)\n",
    "# vowelcounter(str)\n",
    "    "
   ]
  },
  {
   "cell_type": "code",
   "execution_count": 21,
   "metadata": {},
   "outputs": [
    {
     "name": "stdout",
     "output_type": "stream",
     "text": [
      "rayan\n",
      "a,20.0\n",
      "a,40.0\n",
      "\n",
      "No of vowels:  2\n"
     ]
    }
   ],
   "source": [
    "def vowelcounter(str):\n",
    "    count = 0\n",
    "    vowel = set (\"aeiouAEIOU\")\n",
    "    for letters in str:\n",
    "        if letters in vowel:\n",
    "            count=count+1\n",
    "            print(letters,end=',')\n",
    "            per=(count/len(str)*100)\n",
    "            print(per)\n",
    "            # print(count/len(str))*100\n",
    "    print(\"\\nNo of vowels: \",count)\n",
    "str=input(\"Enter words\")\n",
    "print(str)\n",
    "vowelcounter(str)\n",
    "    "
   ]
  },
  {
   "cell_type": "code",
   "execution_count": null,
   "metadata": {},
   "outputs": [],
   "source": []
  }
 ],
 "metadata": {
  "kernelspec": {
   "display_name": "Python 3",
   "language": "python",
   "name": "python3"
  },
  "language_info": {
   "codemirror_mode": {
    "name": "ipython",
    "version": 3
   },
   "file_extension": ".py",
   "mimetype": "text/x-python",
   "name": "python",
   "nbconvert_exporter": "python",
   "pygments_lexer": "ipython3",
   "version": "3.11.4"
  },
  "orig_nbformat": 4
 },
 "nbformat": 4,
 "nbformat_minor": 2
}
