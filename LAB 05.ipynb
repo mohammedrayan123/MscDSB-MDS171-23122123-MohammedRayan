{
 "cells": [
  {
   "cell_type": "code",
   "execution_count": 32,
   "metadata": {},
   "outputs": [
    {
     "name": "stdout",
     "output_type": "stream",
     "text": [
      "aanseeeeeeeeel\n",
      "a,percentage is 7.14%\n",
      "a,percentage is 14.29%\n",
      "e,percentage is 21.43%\n",
      "e,percentage is 28.57%\n",
      "e,percentage is 35.71%\n",
      "e,percentage is 42.86%\n",
      "e,percentage is 50.00%\n",
      "e,percentage is 57.14%\n",
      "e,percentage is 64.29%\n",
      "e,percentage is 71.43%\n",
      "e,percentage is 78.57%\n",
      "\n",
      "No of vowels:  11\n"
     ]
    }
   ],
   "source": [
    "def vowelcounter(str):\n",
    "    count = 0\n",
    "    vowel = set (\"aeiouAEIOU\")\n",
    "    for letters in str:\n",
    "        if letters in vowel:\n",
    "            count=count+1\n",
    "            print(letters,end=',')\n",
    "            per=(count/len(str))*100\n",
    "            print(f\"percentage is {per:.2f}%\")\n",
    "            # print(count/len(str))*100\n",
    "    print(\"\\nNo of vowels: \",count)\n",
    "str=input(\"Enter words\")\n",
    "print(str)\n",
    "vowelcounter(str)\n",
    "    "
   ]
  }
 ],
 "metadata": {
  "kernelspec": {
   "display_name": "Python 3",
   "language": "python",
   "name": "python3"
  },
  "language_info": {
   "codemirror_mode": {
    "name": "ipython",
    "version": 3
   },
   "file_extension": ".py",
   "mimetype": "text/x-python",
   "name": "python",
   "nbconvert_exporter": "python",
   "pygments_lexer": "ipython3",
   "version": "3.11.4"
  },
  "orig_nbformat": 4
 },
 "nbformat": 4,
 "nbformat_minor": 2
}
