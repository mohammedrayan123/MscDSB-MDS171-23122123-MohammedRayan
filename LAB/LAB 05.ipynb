{
 "cells": [
  {
   "cell_type": "markdown",
   "metadata": {},
   "source": [
    "Write a program for collecting a string from the user and counting the number of vowels.\n",
    "\n",
    "1)Print the total count of vowels\n",
    "2)Print each vowel and its count\n",
    "3)Calculate the percentage of vowels in the given string\n",
    "Make use of functions and format your output accordingly."
   ]
  },
  {
   "cell_type": "code",
   "execution_count": 3,
   "metadata": {},
   "outputs": [
    {
     "name": "stdout",
     "output_type": "stream",
     "text": [
      "mohammed rayaaaaan\n",
      "o,a,e,a,a,a,a,a,a,\n",
      "Percentage is 50.00%\n",
      "No of vowels: 9\n"
     ]
    }
   ],
   "source": [
    "# # definig a function to count vowels\n",
    "# def vowelcounter(str):\n",
    "    \n",
    "#     # initializing count as 0 and vowels\n",
    "#     count = 0\n",
    "#     vowel = set (\"aeiouAEIOU\")\n",
    "    \n",
    "#     # for loop to count the number of vowels present in string\n",
    "#     for letters in str:\n",
    "        \n",
    "#         # if statement to check is vowels are present in the input or not\n",
    "#         if letters in vowel:\n",
    "#             count=count+1\n",
    "            \n",
    "#             # printing the letters separeted with ','\n",
    "#             print(letters,end=',')\n",
    "            \n",
    "#             # calculating and printing the percentage\n",
    "#             per=(count/len(str))*100\n",
    "#             print(f\"percentage is {per:.2f}%\")\n",
    "    \n",
    "#     # printing number of vowels\n",
    "#     print(\"\\nNo of vowels: \",count)\n",
    "\n",
    "# # taking user input and printing it\n",
    "# str=input(\"Enter words\")\n",
    "# print(str)\n",
    "\n",
    "# # calling the function\n",
    "# vowelcounter(str)\n",
    "    \n",
    "    \n",
    "def vowelcounter(str):\n",
    "    \n",
    "    # initializing count as 0 and vowels\n",
    "    count = 0\n",
    "    vowel = set(\"aeiouAEIOU\")\n",
    "    \n",
    "    # for loop to count the number of vowels present in string\n",
    "    for letters in str:\n",
    "        \n",
    "        # if statement to check if vowels are present in the input or not\n",
    "        if letters in vowel:\n",
    "            count += 1\n",
    "            \n",
    "    # printing the letters separated with ','\n",
    "    for letters in str:\n",
    "        if letters in vowel:\n",
    "            print(letters, end=',')\n",
    "    \n",
    "    # calculating and printing the percentage\n",
    "    if len(str) > 0:\n",
    "        per = (count / len(str)) * 100\n",
    "        print(f\"\\nPercentage is {per:.2f}%\")\n",
    "    \n",
    "    # printing the number of vowels\n",
    "    print(\"No of vowels:\", count)\n",
    "\n",
    "# taking user input and printing it\n",
    "str_input = input(\"Enter words: \")\n",
    "print(str_input)\n",
    "\n",
    "# calling the function\n",
    "vowelcounter(str_input)\n",
    "    "
   ]
  },
  {
   "cell_type": "code",
   "execution_count": null,
   "metadata": {},
   "outputs": [],
   "source": []
  }
 ],
 "metadata": {
  "kernelspec": {
   "display_name": "Python 3",
   "language": "python",
   "name": "python3"
  },
  "language_info": {
   "codemirror_mode": {
    "name": "ipython",
    "version": 3
   },
   "file_extension": ".py",
   "mimetype": "text/x-python",
   "name": "python",
   "nbconvert_exporter": "python",
   "pygments_lexer": "ipython3",
   "version": "3.11.4"
  },
  "orig_nbformat": 4
 },
 "nbformat": 4,
 "nbformat_minor": 2
}
