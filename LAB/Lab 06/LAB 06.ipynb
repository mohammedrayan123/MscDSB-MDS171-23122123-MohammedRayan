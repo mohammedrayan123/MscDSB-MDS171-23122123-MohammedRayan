{
 "cells": [
  {
   "cell_type": "markdown",
   "metadata": {},
   "source": [
    "Mix & Match Calculator\n",
    "\n",
    "Create Lists for [Item, Quantity, Price] with 10 random values of your choice.\n",
    "The item list can be of any category of your choice [Food Items, Grocery Items,...] or anything you choose that can be bought.\n",
    "\n",
    "Prepare a CSV file with combinations of these values with the help of random index & looping statements and other control structures we discussed in class.\n",
    "\n",
    "To get a random index or number to access items from the list, you can use the following:\n",
    "random is a library in Python that can be used to generate random numbers.\n",
    "\n",
    "import random # Importing the external library\n",
    "r1 = random.randint(0, 10) # Generating the random number from the range and store it in r1 variable\n",
    "\n",
    "More details of the Random library usage can be found here.\n",
    "\n",
    "Your CSV file should have a minimum of 100 rows created randomly with the data in the list and the random library.\n",
    "Each row in the CSV file will have (item, Quantity, and UnitPrice).\n",
    "\n",
    "After preparing the CSV with Python code, you need to compute\n",
    "The total cost for each row, display the result from the first 5 rows and the last 10 rows\n",
    "Calculate the total cost for each unique item in the dataset.\n",
    "Item Name | Total Quantity | Total\n",
    "Print the minimum & maximum price for each item sold"
   ]
  },
  {
   "cell_type": "code",
   "execution_count": 15,
   "metadata": {},
   "outputs": [
    {
     "name": "stdout",
     "output_type": "stream",
     "text": [
      "The maximum total is 907194\n"
     ]
    }
   ],
   "source": [
    "# importing random \n",
    "import random\n",
    "\n",
    "# Define lists for items, quantities, and prices\n",
    "itemlist = [\"keyboard\", \"ram\", \"motherboard\", \"cpu\", \"hdd\", \"ssd\", \"charger\", \"monitor\", \"pendrive\", \"mouse\"]\n",
    "qtylist = [\"53\", \"42\", \"17\", \"71\", \"31\", \"77\", \"68\", \"76\", \"26\", \"94\"]\n",
    "pricelist = [\"7526\", \"9036\", \"6179\", \"9090\", \"6701\", \"7731\", \"9651\", \"3363\", \"4655\", \"3697\"]\n",
    "\n",
    "# file = open('items.txt','a+')\n",
    "# file.write(itemlist,qtylist,pricelist)\n",
    "# file.close()\n",
    "\n",
    "# file = open('items.txt','a+')\n",
    "\n",
    "# Define a function to generate item data and calculate the total\n",
    "def lab06():\n",
    "    # Generate random indices for item, quantity, and price\n",
    "    item = random.randint(0, 9)\n",
    "    qty = random.randint(0, 9)\n",
    "    price = random.randint(0, 9)\n",
    "    \n",
    "    # Calculate the total cost\n",
    "    total = int(qtylist[qty]) * int(pricelist[price])\n",
    "    \n",
    "    # Return a string with item details and total cost\n",
    "    return itemlist[item] + \",\" + str(qtylist[qty]) + \",\" + str(pricelist[price]) + \",\" + str(total)\n",
    "\n",
    "# Open a CSV file for writing\n",
    "with open(\"item.csv\", \"w+\") as file:\n",
    "    # Initialize the maximum total to 0\n",
    "    max_total = 0  \n",
    "    for num in range(0, 100, 1):\n",
    "        # Generate item data and write it to the CSV file\n",
    "        data = lab06()\n",
    "        file.write(data + \"\\n\")\n",
    "        \n",
    "        # Extract the total cost from the generated data\n",
    "        total = int(data.split(\",\")[3])\n",
    "        \n",
    "        # Update the maximum total if a larger total is found\n",
    "        if total > max_total:\n",
    "            max_total = total  \n",
    "\n",
    "    # Print the maximum total found in the loop\n",
    "    print(\"The maximum total is\", max_total)\n",
    "\n"
   ]
  },
  {
   "cell_type": "code",
   "execution_count": null,
   "metadata": {},
   "outputs": [],
   "source": []
  }
 ],
 "metadata": {
  "kernelspec": {
   "display_name": "Python 3",
   "language": "python",
   "name": "python3"
  },
  "language_info": {
   "codemirror_mode": {
    "name": "ipython",
    "version": 3
   },
   "file_extension": ".py",
   "mimetype": "text/x-python",
   "name": "python",
   "nbconvert_exporter": "python",
   "pygments_lexer": "ipython3",
   "version": "3.11.4"
  },
  "orig_nbformat": 4
 },
 "nbformat": 4,
 "nbformat_minor": 2
}
